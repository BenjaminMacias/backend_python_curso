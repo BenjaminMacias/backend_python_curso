{
 "cells": [
  {
   "cell_type": "code",
   "execution_count": 1,
   "id": "fc69149c-6d79-4b30-86e3-82bd47e287fa",
   "metadata": {},
   "outputs": [
    {
     "name": "stdout",
     "output_type": "stream",
     "text": [
      "hola mundo\n"
     ]
    }
   ],
   "source": [
    "print (\"hola mundo\")"
   ]
  },
  {
   "cell_type": "code",
   "execution_count": 2,
   "id": "9d3c7bcb-e019-4ed1-acb5-972210153aac",
   "metadata": {},
   "outputs": [
    {
     "name": "stdout",
     "output_type": "stream",
     "text": [
      "hola mundo mundial\n"
     ]
    }
   ],
   "source": [
    "print (\"hola mundo mundial\")"
   ]
  },
  {
   "cell_type": "code",
   "execution_count": 3,
   "id": "9ea83a1b-27a6-4402-9e6e-3bd5b812d108",
   "metadata": {},
   "outputs": [
    {
     "name": "stdout",
     "output_type": "stream",
     "text": [
      "hola me llamo benjamin macias\n"
     ]
    }
   ],
   "source": [
    "print (\"hola me llamo benjamin macias\")"
   ]
  },
  {
   "cell_type": "code",
   "execution_count": null,
   "id": "7c692603-d29d-4eae-91d7-e61e04de559d",
   "metadata": {},
   "outputs": [],
   "source": []
  }
 ],
 "metadata": {
  "kernelspec": {
   "display_name": "Python 3 (ipykernel)",
   "language": "python",
   "name": "python3"
  },
  "language_info": {
   "codemirror_mode": {
    "name": "ipython",
    "version": 3
   },
   "file_extension": ".py",
   "mimetype": "text/x-python",
   "name": "python",
   "nbconvert_exporter": "python",
   "pygments_lexer": "ipython3",
   "version": "3.13.3"
  }
 },
 "nbformat": 4,
 "nbformat_minor": 5
}
